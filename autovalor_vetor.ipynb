{
 "cells": [
  {
   "cell_type": "code",
   "execution_count": 1,
   "id": "9e99181d-b975-41b9-a5f0-ec18111d7026",
   "metadata": {},
   "outputs": [
    {
     "data": {
      "text/plain": [
       "matrix([[1, 0, 4],\n",
       "        [3, 5, 2],\n",
       "        [1, 3, 2]])"
      ]
     },
     "execution_count": 1,
     "metadata": {},
     "output_type": "execute_result"
    }
   ],
   "source": [
    "import numpy as np\n",
    "import scipy.linalg as la\n",
    "df = np.array([[1,0,4],[3,5,2],[1,3,2]])\n",
    "np.matrix(df)"
   ]
  },
  {
   "cell_type": "code",
   "execution_count": 7,
   "id": "09a1f190-1aa7-4c47-810a-41e6fd4bd89c",
   "metadata": {},
   "outputs": [
    {
     "data": {
      "text/plain": [
       "20.0"
      ]
     },
     "execution_count": 7,
     "metadata": {},
     "output_type": "execute_result"
    }
   ],
   "source": [
    "la.det(df)"
   ]
  },
  {
   "cell_type": "code",
   "execution_count": 3,
   "id": "4dc001fb-6bd2-490f-b10e-6dc7867dba18",
   "metadata": {},
   "outputs": [],
   "source": [
    "autovalor, autovetor = la.eig(df)"
   ]
  },
  {
   "cell_type": "code",
   "execution_count": 9,
   "id": "65e39aea-610a-49f5-bb32-16cbfb2e3d16",
   "metadata": {},
   "outputs": [
    {
     "name": "stdout",
     "output_type": "stream",
     "text": [
      "(20.00000000000001+0j)\n"
     ]
    }
   ],
   "source": [
    "print(autovalor[0]*autovalor[1]*autovalor[2])\n"
   ]
  },
  {
   "cell_type": "code",
   "execution_count": 10,
   "id": "8ad21cc5-dcd8-4d47-98ec-635fa74b7240",
   "metadata": {},
   "outputs": [
    {
     "name": "stdout",
     "output_type": "stream",
     "text": [
      "[[-0.31370532+0.j         -0.81562651+0.j         -0.81562651-0.j        ]\n",
      " [-0.80504067+0.j          0.36685472+0.26578574j  0.36685472-0.26578574j]\n",
      " [-0.50348634+0.j          0.1447598 -0.32950502j  0.1447598 +0.32950502j]]\n"
     ]
    }
   ],
   "source": [
    "print(autovetor)"
   ]
  },
  {
   "cell_type": "code",
   "execution_count": 6,
   "id": "925f2494-db2e-4fe0-a7eb-c6fe97a82562",
   "metadata": {},
   "outputs": [
    {
     "name": "stdout",
     "output_type": "stream",
     "text": [
      "(8+0j)\n"
     ]
    }
   ],
   "source": [
    "print(np.sum(autovalor))"
   ]
  },
  {
   "cell_type": "code",
   "execution_count": null,
   "id": "030da5b5-66b5-47a9-9397-cbe6ffc0af92",
   "metadata": {},
   "outputs": [],
   "source": []
  }
 ],
 "metadata": {
  "kernelspec": {
   "display_name": "Python 3 (ipykernel)",
   "language": "python",
   "name": "python3"
  },
  "language_info": {
   "codemirror_mode": {
    "name": "ipython",
    "version": 3
   },
   "file_extension": ".py",
   "mimetype": "text/x-python",
   "name": "python",
   "nbconvert_exporter": "python",
   "pygments_lexer": "ipython3",
   "version": "3.12.3"
  }
 },
 "nbformat": 4,
 "nbformat_minor": 5
}
