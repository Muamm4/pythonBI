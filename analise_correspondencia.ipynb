{
 "cells": [
  {
   "cell_type": "code",
   "execution_count": 15,
   "id": "9975ccd7-2169-425e-a587-968969bb746e",
   "metadata": {},
   "outputs": [
    {
     "data": {
      "text/plain": [
       "Power_divergenceResult(statistic=1.0645454545454545, pvalue=0.587268750117387)"
      ]
     },
     "execution_count": 15,
     "metadata": {},
     "output_type": "execute_result"
    }
   ],
   "source": [
    "import scipy\n",
    "arr1 = [23,17,60]\n",
    "arr2 = [25,20,55]\n",
    "scipy.stats.chisquare(arr1,arr2)"
   ]
  },
  {
   "cell_type": "code",
   "execution_count": 16,
   "id": "25918ca8-302a-4780-be8b-6095ac7478db",
   "metadata": {},
   "outputs": [],
   "source": [
    "import pandas as pd\n",
    "\n",
    "ballon = pd.read_csv(\"./balloons/adult-stretch.data\")"
   ]
  },
  {
   "cell_type": "code",
   "execution_count": 17,
   "id": "d3d7e238-a0f8-4116-b948-bc4b8c3cb1c0",
   "metadata": {},
   "outputs": [
    {
     "data": {
      "text/html": [
       "<div>\n",
       "<style scoped>\n",
       "    .dataframe tbody tr th:only-of-type {\n",
       "        vertical-align: middle;\n",
       "    }\n",
       "\n",
       "    .dataframe tbody tr th {\n",
       "        vertical-align: top;\n",
       "    }\n",
       "\n",
       "    .dataframe thead th {\n",
       "        text-align: right;\n",
       "    }\n",
       "</style>\n",
       "<table border=\"1\" class=\"dataframe\">\n",
       "  <thead>\n",
       "    <tr style=\"text-align: right;\">\n",
       "      <th></th>\n",
       "      <th>Color</th>\n",
       "      <th>Size</th>\n",
       "      <th>Action</th>\n",
       "      <th>Age</th>\n",
       "      <th>Inflated</th>\n",
       "    </tr>\n",
       "  </thead>\n",
       "  <tbody>\n",
       "    <tr>\n",
       "      <th>0</th>\n",
       "      <td>YELLOW</td>\n",
       "      <td>SMALL</td>\n",
       "      <td>STRETCH</td>\n",
       "      <td>CHILD</td>\n",
       "      <td>T</td>\n",
       "    </tr>\n",
       "    <tr>\n",
       "      <th>1</th>\n",
       "      <td>YELLOW</td>\n",
       "      <td>SMALL</td>\n",
       "      <td>DIP</td>\n",
       "      <td>ADULT</td>\n",
       "      <td>T</td>\n",
       "    </tr>\n",
       "    <tr>\n",
       "      <th>2</th>\n",
       "      <td>YELLOW</td>\n",
       "      <td>SMALL</td>\n",
       "      <td>DIP</td>\n",
       "      <td>CHILD</td>\n",
       "      <td>F</td>\n",
       "    </tr>\n",
       "    <tr>\n",
       "      <th>3</th>\n",
       "      <td>YELLOW</td>\n",
       "      <td>SMALL</td>\n",
       "      <td>DIP</td>\n",
       "      <td>CHILD</td>\n",
       "      <td>F</td>\n",
       "    </tr>\n",
       "    <tr>\n",
       "      <th>4</th>\n",
       "      <td>YELLOW</td>\n",
       "      <td>LARGE</td>\n",
       "      <td>STRETCH</td>\n",
       "      <td>ADULT</td>\n",
       "      <td>T</td>\n",
       "    </tr>\n",
       "  </tbody>\n",
       "</table>\n",
       "</div>"
      ],
      "text/plain": [
       "    Color   Size   Action    Age Inflated\n",
       "0  YELLOW  SMALL  STRETCH  CHILD        T\n",
       "1  YELLOW  SMALL      DIP  ADULT        T\n",
       "2  YELLOW  SMALL      DIP  CHILD        F\n",
       "3  YELLOW  SMALL      DIP  CHILD        F\n",
       "4  YELLOW  LARGE  STRETCH  ADULT        T"
      ]
     },
     "execution_count": 17,
     "metadata": {},
     "output_type": "execute_result"
    }
   ],
   "source": [
    "ballon.columns = ['Color',\"Size\",\"Action\",\"Age\",\"Inflated\"]\n",
    "ballon.head()"
   ]
  },
  {
   "cell_type": "code",
   "execution_count": 18,
   "id": "b5d2c677-4834-442a-a4c0-d6d8298a68fd",
   "metadata": {},
   "outputs": [
    {
     "name": "stderr",
     "output_type": "stream",
     "text": [
      "/home/kali/anaconda3/envs/data-science/lib/python3.12/site-packages/altair/utils/core.py:395: FutureWarning: the convert_dtype parameter is deprecated and will be removed in a future version.  Do ``ser.astype(object).apply()`` instead if you want ``convert_dtype=False``.\n",
      "  col = df[col_name].apply(to_list_if_array, convert_dtype=False)\n",
      "/home/kali/anaconda3/envs/data-science/lib/python3.12/site-packages/altair/utils/core.py:395: FutureWarning: the convert_dtype parameter is deprecated and will be removed in a future version.  Do ``ser.astype(object).apply()`` instead if you want ``convert_dtype=False``.\n",
      "  col = df[col_name].apply(to_list_if_array, convert_dtype=False)\n"
     ]
    },
    {
     "data": {
      "text/html": [
       "\n",
       "<style>\n",
       "  #altair-viz-def9cf3c1949404a99915d0fdefe2a9a.vega-embed {\n",
       "    width: 100%;\n",
       "    display: flex;\n",
       "  }\n",
       "\n",
       "  #altair-viz-def9cf3c1949404a99915d0fdefe2a9a.vega-embed details,\n",
       "  #altair-viz-def9cf3c1949404a99915d0fdefe2a9a.vega-embed details summary {\n",
       "    position: relative;\n",
       "  }\n",
       "</style>\n",
       "<div id=\"altair-viz-def9cf3c1949404a99915d0fdefe2a9a\"></div>\n",
       "<script type=\"text/javascript\">\n",
       "  var VEGA_DEBUG = (typeof VEGA_DEBUG == \"undefined\") ? {} : VEGA_DEBUG;\n",
       "  (function(spec, embedOpt){\n",
       "    let outputDiv = document.currentScript.previousElementSibling;\n",
       "    if (outputDiv.id !== \"altair-viz-def9cf3c1949404a99915d0fdefe2a9a\") {\n",
       "      outputDiv = document.getElementById(\"altair-viz-def9cf3c1949404a99915d0fdefe2a9a\");\n",
       "    }\n",
       "    const paths = {\n",
       "      \"vega\": \"https://cdn.jsdelivr.net/npm/vega@5?noext\",\n",
       "      \"vega-lib\": \"https://cdn.jsdelivr.net/npm/vega-lib?noext\",\n",
       "      \"vega-lite\": \"https://cdn.jsdelivr.net/npm/vega-lite@5.8.0?noext\",\n",
       "      \"vega-embed\": \"https://cdn.jsdelivr.net/npm/vega-embed@6?noext\",\n",
       "    };\n",
       "\n",
       "    function maybeLoadScript(lib, version) {\n",
       "      var key = `${lib.replace(\"-\", \"\")}_version`;\n",
       "      return (VEGA_DEBUG[key] == version) ?\n",
       "        Promise.resolve(paths[lib]) :\n",
       "        new Promise(function(resolve, reject) {\n",
       "          var s = document.createElement('script');\n",
       "          document.getElementsByTagName(\"head\")[0].appendChild(s);\n",
       "          s.async = true;\n",
       "          s.onload = () => {\n",
       "            VEGA_DEBUG[key] = version;\n",
       "            return resolve(paths[lib]);\n",
       "          };\n",
       "          s.onerror = () => reject(`Error loading script: ${paths[lib]}`);\n",
       "          s.src = paths[lib];\n",
       "        });\n",
       "    }\n",
       "\n",
       "    function showError(err) {\n",
       "      outputDiv.innerHTML = `<div class=\"error\" style=\"color:red;\">${err}</div>`;\n",
       "      throw err;\n",
       "    }\n",
       "\n",
       "    function displayChart(vegaEmbed) {\n",
       "      vegaEmbed(outputDiv, spec, embedOpt)\n",
       "        .catch(err => showError(`Javascript Error: ${err.message}<br>This usually means there's a typo in your chart specification. See the javascript console for the full traceback.`));\n",
       "    }\n",
       "\n",
       "    if(typeof define === \"function\" && define.amd) {\n",
       "      requirejs.config({paths});\n",
       "      require([\"vega-embed\"], displayChart, err => showError(`Error loading script: ${err.message}`));\n",
       "    } else {\n",
       "      maybeLoadScript(\"vega\", \"5\")\n",
       "        .then(() => maybeLoadScript(\"vega-lite\", \"5.8.0\"))\n",
       "        .then(() => maybeLoadScript(\"vega-embed\", \"6\"))\n",
       "        .catch(showError)\n",
       "        .then(() => displayChart(vegaEmbed));\n",
       "    }\n",
       "  })({\"config\": {\"view\": {\"continuousWidth\": 300, \"continuousHeight\": 300}}, \"data\": {\"name\": \"data-4054184e97857a113cbc0ad38785a4ab\"}, \"mark\": {\"type\": \"circle\", \"size\": 50}, \"encoding\": {\"color\": {\"field\": \"variable\", \"type\": \"nominal\"}, \"tooltip\": [{\"field\": \"variable\", \"type\": \"nominal\"}, {\"field\": \"value\", \"type\": \"nominal\"}, {\"field\": \"component 0\", \"type\": \"quantitative\"}, {\"field\": \"component 1\", \"type\": \"quantitative\"}], \"x\": {\"axis\": {\"title\": \"component 0 \\u2014 39.80%\"}, \"field\": \"component 0\", \"scale\": {\"zero\": false}, \"type\": \"quantitative\"}, \"y\": {\"axis\": {\"title\": \"component 1 \\u2014 21.11%\"}, \"field\": \"component 1\", \"scale\": {\"zero\": false}, \"type\": \"quantitative\"}}, \"params\": [{\"name\": \"param_4\", \"select\": {\"type\": \"interval\", \"encodings\": [\"x\", \"y\"]}, \"bind\": \"scales\"}], \"$schema\": \"https://vega.github.io/schema/vega-lite/v5.8.0.json\", \"datasets\": {\"data-4054184e97857a113cbc0ad38785a4ab\": [{\"component 0\": 0.2925361600800349, \"component 1\": 5.7414040131407935e-15, \"component 2\": 0.7216276006637377, \"variable\": \"row\", \"value\": \"0\"}, {\"component 0\": 0.2925361600800349, \"component 1\": 6.7904412871204105e-15, \"component 2\": 0.7216276006637387, \"variable\": \"row\", \"value\": \"1\"}, {\"component 0\": -0.7955407163060783, \"component 1\": 5.5580659218973895e-15, \"component 2\": 0.5592623653265143, \"variable\": \"row\", \"value\": \"2\"}, {\"component 0\": -0.7955407163060783, \"component 1\": 5.5580659218973895e-15, \"component 2\": 0.5592623653265143, \"variable\": \"row\", \"value\": \"3\"}, {\"component 0\": 0.8515112252203467, \"component 1\": -0.6333333333333329, \"component 2\": 0.13301672033850648, \"variable\": \"row\", \"value\": \"4\"}, {\"component 0\": 0.3789774997357583, \"component 1\": -0.6333333333333332, \"component 2\": 0.09538231307918343, \"variable\": \"row\", \"value\": \"5\"}, {\"component 0\": 0.3789774997357583, \"component 1\": -0.6333333333333322, \"component 2\": 0.09538231307918438, \"variable\": \"row\", \"value\": \"6\"}, {\"component 0\": -0.7090993766503548, \"component 1\": -0.6333333333333333, \"component 2\": -0.06698292225803998, \"variable\": \"row\", \"value\": \"7\"}, {\"component 0\": -0.7090993766503548, \"component 1\": -0.6333333333333333, \"component 2\": -0.06698292225803998, \"variable\": \"row\", \"value\": \"8\"}, {\"component 0\": 0.8515112252203472, \"component 1\": 0.6333333333333337, \"component 2\": 0.13301672033849493, \"variable\": \"row\", \"value\": \"9\"}, {\"component 0\": 0.3789774997357589, \"component 1\": 0.6333333333333333, \"component 2\": 0.09538231307917189, \"variable\": \"row\", \"value\": \"10\"}, {\"component 0\": 0.3789774997357589, \"component 1\": 0.6333333333333344, \"component 2\": 0.09538231307917283, \"variable\": \"row\", \"value\": \"11\"}, {\"component 0\": -0.7090993766503543, \"component 1\": 0.6333333333333332, \"component 2\": -0.06698292225805152, \"variable\": \"row\", \"value\": \"12\"}, {\"component 0\": -0.7090993766503543, \"component 1\": 0.6333333333333332, \"component 2\": -0.06698292225805152, \"variable\": \"row\", \"value\": \"13\"}, {\"component 0\": 0.9379525648760707, \"component 1\": -5.121917111989116e-15, \"component 2\": -0.49322856724605935, \"variable\": \"row\", \"value\": \"14\"}, {\"component 0\": 0.46541883939148226, \"component 1\": -5.553701175713973e-15, \"component 2\": -0.5308629745053824, \"variable\": \"row\", \"value\": \"15\"}, {\"component 0\": 0.4654188393914822, \"component 1\": -4.504663901734355e-15, \"component 2\": -0.5308629745053814, \"variable\": \"row\", \"value\": \"16\"}, {\"component 0\": -0.6226580369946308, \"component 1\": -5.737039266957377e-15, \"component 2\": -0.6932282098426059, \"variable\": \"row\", \"value\": \"17\"}, {\"component 0\": -0.6226580369946308, \"component 1\": -5.72271256553229e-15, \"component 2\": -0.6932282098426059, \"variable\": \"row\", \"value\": \"18\"}, {\"component 0\": 0.1291517090723247, \"component 1\": 0.6892024376045055, \"component 2\": -0.6388427667669508, \"variable\": \"column\", \"value\": \"Color_PURPLE\"}, {\"component 0\": -0.14350189896924959, \"component 1\": -0.7657804862272284, \"component 2\": 0.7098252964077233, \"variable\": \"column\", \"value\": \"Color_YELLOW\"}, {\"component 0\": 0.12915170907232365, \"component 1\": -0.6892024376045162, \"component 2\": -0.6388427667669394, \"variable\": \"column\", \"value\": \"Size_LARGE\"}, {\"component 0\": -0.1435018989692484, \"component 1\": 0.7657804862272402, \"component 2\": 0.7098252964077106, \"variable\": \"column\", \"value\": \"Size_SMALL\"}, {\"component 0\": -0.5491196809638252, \"component 1\": 4.62026376939361e-16, \"component 2\": -0.029860021899260986, \"variable\": \"column\", \"value\": \"Action_DIP\"}, {\"component 0\": 0.9413480245094147, \"component 1\": -8.909460065229133e-16, \"component 2\": 0.051188608970162044, \"variable\": \"column\", \"value\": \"Action_STRETCH\"}, {\"component 0\": 0.9413480245094149, \"component 1\": 2.220446049250313e-16, \"component 2\": 0.05118860897016303, \"variable\": \"column\", \"value\": \"Age_ADULT\"}, {\"component 0\": -0.5491196809638252, \"component 1\": -1.9022965002791853e-16, \"component 2\": -0.02986002189926157, \"variable\": \"column\", \"value\": \"Age_CHILD\"}, {\"component 0\": -1.1240544459868118, \"component 1\": -7.635532329956978e-16, \"component 2\": -0.15551543244081276, \"variable\": \"column\", \"value\": \"Inflated_F\"}, {\"component 0\": 0.817494142535863, \"component 1\": 4.996003610813204e-16, \"component 2\": 0.11310213268422768, \"variable\": \"column\", \"value\": \"Inflated_T\"}]}}, {\"mode\": \"vega-lite\"});\n",
       "</script>"
      ],
      "text/plain": [
       "alt.Chart(...)"
      ]
     },
     "execution_count": 18,
     "metadata": {},
     "output_type": "execute_result"
    }
   ],
   "source": [
    "import prince\n",
    "new = prince.MCA(n_components=3)\n",
    "new = new.fit(ballon)\n",
    "new.plot(ballon)"
   ]
  },
  {
   "cell_type": "code",
   "execution_count": null,
   "id": "fe51da89-8d33-4949-804f-634a526ab84d",
   "metadata": {},
   "outputs": [],
   "source": []
  }
 ],
 "metadata": {
  "kernelspec": {
   "display_name": "Python 3 (ipykernel)",
   "language": "python",
   "name": "python3"
  },
  "language_info": {
   "codemirror_mode": {
    "name": "ipython",
    "version": 3
   },
   "file_extension": ".py",
   "mimetype": "text/x-python",
   "name": "python",
   "nbconvert_exporter": "python",
   "pygments_lexer": "ipython3",
   "version": "3.12.3"
  }
 },
 "nbformat": 4,
 "nbformat_minor": 5
}
